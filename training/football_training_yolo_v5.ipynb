{
 "cells": [
  {
   "cell_type": "code",
   "execution_count": 1,
   "metadata": {},
   "outputs": [
    {
     "name": "stdout",
     "output_type": "stream",
     "text": [
      "Collecting roboflow\n",
      "  Using cached roboflow-1.1.48-py3-none-any.whl (80 kB)\n",
      "Requirement already satisfied: numpy>=1.18.5 in /home/khalil/FAS/.venv/lib/python3.10/site-packages (from roboflow) (2.1.2)\n",
      "Requirement already satisfied: matplotlib in /home/khalil/FAS/.venv/lib/python3.10/site-packages (from roboflow) (3.9.2)\n",
      "Requirement already satisfied: six in /home/khalil/FAS/.venv/lib/python3.10/site-packages (from roboflow) (1.16.0)\n",
      "Requirement already satisfied: Pillow>=7.1.2 in /home/khalil/FAS/.venv/lib/python3.10/site-packages (from roboflow) (11.0.0)\n",
      "Requirement already satisfied: cycler in /home/khalil/FAS/.venv/lib/python3.10/site-packages (from roboflow) (0.12.1)\n",
      "Requirement already satisfied: requests in /home/khalil/FAS/.venv/lib/python3.10/site-packages (from roboflow) (2.32.3)\n",
      "Requirement already satisfied: urllib3>=1.26.6 in /home/khalil/FAS/.venv/lib/python3.10/site-packages (from roboflow) (2.2.3)\n",
      "Requirement already satisfied: certifi in /home/khalil/FAS/.venv/lib/python3.10/site-packages (from roboflow) (2024.8.30)\n",
      "Collecting idna==3.7\n",
      "  Using cached idna-3.7-py3-none-any.whl (66 kB)\n",
      "Collecting requests-toolbelt\n",
      "  Using cached requests_toolbelt-1.0.0-py2.py3-none-any.whl (54 kB)\n",
      "Collecting filetype\n",
      "  Using cached filetype-1.2.0-py2.py3-none-any.whl (19 kB)\n",
      "Requirement already satisfied: tqdm>=4.41.0 in /home/khalil/FAS/.venv/lib/python3.10/site-packages (from roboflow) (4.66.6)\n",
      "Requirement already satisfied: python-dateutil in /home/khalil/FAS/.venv/lib/python3.10/site-packages (from roboflow) (2.9.0.post0)\n",
      "Requirement already satisfied: PyYAML>=5.3.1 in /home/khalil/FAS/.venv/lib/python3.10/site-packages (from roboflow) (6.0.2)\n",
      "Collecting python-dotenv\n",
      "  Using cached python_dotenv-1.0.1-py3-none-any.whl (19 kB)\n",
      "Requirement already satisfied: kiwisolver>=1.3.1 in /home/khalil/FAS/.venv/lib/python3.10/site-packages (from roboflow) (1.4.7)\n",
      "Collecting opencv-python-headless==4.10.0.84\n",
      "  Using cached opencv_python_headless-4.10.0.84-cp37-abi3-manylinux_2_17_x86_64.manylinux2014_x86_64.whl (49.9 MB)\n",
      "Requirement already satisfied: contourpy>=1.0.1 in /home/khalil/FAS/.venv/lib/python3.10/site-packages (from matplotlib->roboflow) (1.3.0)\n",
      "Requirement already satisfied: pyparsing>=2.3.1 in /home/khalil/FAS/.venv/lib/python3.10/site-packages (from matplotlib->roboflow) (3.2.0)\n",
      "Requirement already satisfied: fonttools>=4.22.0 in /home/khalil/FAS/.venv/lib/python3.10/site-packages (from matplotlib->roboflow) (4.54.1)\n",
      "Requirement already satisfied: packaging>=20.0 in /home/khalil/FAS/.venv/lib/python3.10/site-packages (from matplotlib->roboflow) (24.1)\n",
      "Requirement already satisfied: charset-normalizer<4,>=2 in /home/khalil/FAS/.venv/lib/python3.10/site-packages (from requests->roboflow) (3.4.0)\n",
      "Installing collected packages: filetype, python-dotenv, opencv-python-headless, idna, requests-toolbelt, roboflow\n",
      "  Attempting uninstall: idna\n",
      "    Found existing installation: idna 3.10\n",
      "    Uninstalling idna-3.10:\n",
      "      Successfully uninstalled idna-3.10\n",
      "Successfully installed filetype-1.2.0 idna-3.7 opencv-python-headless-4.10.0.84 python-dotenv-1.0.1 requests-toolbelt-1.0.0 roboflow-1.1.48\n"
     ]
    }
   ],
   "source": [
    "!pip install roboflow"
   ]
  },
  {
   "cell_type": "markdown",
   "metadata": {},
   "source": [
    "# Get Dataset"
   ]
  },
  {
   "cell_type": "code",
   "execution_count": 3,
   "metadata": {},
   "outputs": [
    {
     "name": "stdout",
     "output_type": "stream",
     "text": [
      "loading Roboflow workspace...\n",
      "loading Roboflow project...\n"
     ]
    },
    {
     "name": "stderr",
     "output_type": "stream",
     "text": [
      "Downloading Dataset Version Zip in football-players-detection-1 to yolov5pytorch:: 100%|██████████| 148663/148663 [00:40<00:00, 3686.24it/s]"
     ]
    },
    {
     "name": "stdout",
     "output_type": "stream",
     "text": [
      "\n"
     ]
    },
    {
     "name": "stderr",
     "output_type": "stream",
     "text": [
      "\n",
      "Extracting Dataset Version Zip to football-players-detection-1 in yolov5pytorch:: 100%|██████████| 1338/1338 [00:00<00:00, 3907.88it/s]\n"
     ]
    }
   ],
   "source": [
    "from roboflow import Roboflow\n",
    "rf = Roboflow(api_key=\"xExjZCxVCRFq7KozkGMN\")\n",
    "project = rf.workspace(\"roboflow-jvuqo\").project(\"football-players-detection-3zvbc\")\n",
    "version = project.version(1)\n",
    "dataset = version.download(\"yolov5\")\n",
    "                \n",
    "                "
   ]
  },
  {
   "cell_type": "code",
   "execution_count": 4,
   "metadata": {},
   "outputs": [
    {
     "data": {
      "text/plain": [
       "'/home/khalil/FAS/training/football-players-detection-1'"
      ]
     },
     "execution_count": 4,
     "metadata": {},
     "output_type": "execute_result"
    }
   ],
   "source": [
    "dataset.location"
   ]
  },
  {
   "cell_type": "code",
   "execution_count": 8,
   "metadata": {},
   "outputs": [
    {
     "data": {
      "text/plain": [
       "'football-players-detection-1/football-players-detection-1/valid'"
      ]
     },
     "execution_count": 8,
     "metadata": {},
     "output_type": "execute_result"
    }
   ],
   "source": [
    "import shutil\n",
    "\n",
    "shutil.move('football-players-detection-1/train',\n",
    "            'football-players-detection-1/football-players-detection-1/train'\n",
    "            )\n",
    "\n",
    "shutil.move('football-players-detection-1/test',\n",
    "            'football-players-detection-1/football-players-detection-1/test'\n",
    "            )\n",
    "\n",
    "shutil.move('football-players-detection-1/valid',\n",
    "            'football-players-detection-1/football-players-detection-1/valid'\n",
    "            )"
   ]
  },
  {
   "cell_type": "markdown",
   "metadata": {},
   "source": []
  },
  {
   "cell_type": "markdown",
   "metadata": {},
   "source": [
    "# Training "
   ]
  },
  {
   "cell_type": "code",
   "execution_count": 5,
   "metadata": {},
   "outputs": [],
   "source": [
    "#cleaning cash from gpu\n",
    "import torch\n",
    "torch.cuda.empty_cache()\n"
   ]
  },
  {
   "cell_type": "code",
   "execution_count": 6,
   "metadata": {},
   "outputs": [
    {
     "data": {
      "text/plain": [
       "'/home/khalil/FAS/training/football-players-detection-1'"
      ]
     },
     "execution_count": 6,
     "metadata": {},
     "output_type": "execute_result"
    }
   ],
   "source": [
    "dataset.location"
   ]
  },
  {
   "cell_type": "code",
   "execution_count": null,
   "metadata": {},
   "outputs": [],
   "source": [
    "!yolo task=detect mode=train model=yolov5lu.pt data={dataset.location}/data.yaml epochs=100 imgsz=420 batch=8 amp=False\n"
   ]
  }
 ],
 "metadata": {
  "kernelspec": {
   "display_name": ".venv",
   "language": "python",
   "name": "python3"
  },
  "language_info": {
   "codemirror_mode": {
    "name": "ipython",
    "version": 3
   },
   "file_extension": ".py",
   "mimetype": "text/x-python",
   "name": "python",
   "nbconvert_exporter": "python",
   "pygments_lexer": "ipython3",
   "version": "3.10.12"
  }
 },
 "nbformat": 4,
 "nbformat_minor": 2
}
